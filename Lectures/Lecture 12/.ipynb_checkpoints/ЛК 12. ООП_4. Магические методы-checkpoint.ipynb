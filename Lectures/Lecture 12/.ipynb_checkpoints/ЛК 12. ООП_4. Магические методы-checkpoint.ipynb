{
 "cells": [
  {
   "cell_type": "markdown",
   "metadata": {},
   "source": [
    "# Основные магические методы\n",
    "\n",
    "Магические методы в ```Python``` — это специальные методы, которые начинаются и заканчиваются двойными подчеркиваниями (например, ```__init__```, ```__str__```, ```__add__```). \n",
    "\n",
    "Они позволяют определять поведение объектов в различных ситуациях, таких как создание объекта, его строковое представление, выполнение арифметических операций и многое другое. Эти методы не предназначены для прямого вызова, а вызываются автоматически в определенных контекстах."
   ]
  },
  {
   "cell_type": "markdown",
   "metadata": {},
   "source": [
    "## Конструкция и деструкция"
   ]
  },
  {
   "cell_type": "markdown",
   "metadata": {},
   "source": [
    "В Python магические методы ```__del__```, ```__new__``` и ```__init__``` связаны с созданием, инициализацией и уничтожением объектов. Они играют важную роль в жизненном цикле объекта. Давайте разберем каждый из них подробнее."
   ]
  },
  {
   "cell_type": "markdown",
   "metadata": {},
   "source": [
    "---\n",
    "### ```__new__```\n",
    "\n",
    "Метод ```__new__``` отвечает за создание нового экземпляра класса. Он вызывается до ```__init__``` и возвращает новый объект. \n",
    "\n",
    "Этот метод редко переопределяется, но он полезен, когда нужно контролировать процесс создания объекта (например, при реализации паттернов проектирования, таких как ```Singleton```).\n",
    "\n",
    "__Особенности:__\n",
    "\n",
    "Принимает класс (```cls```) в качестве первого аргумента.\n",
    "Должен вернуть новый объект (экземпляр класса).\n",
    "Если ```__new__``` не возвращает объект, то ```__init__``` не вызывается.\n",
    "\n",
    "__Пример:__"
   ]
  },
  {
   "cell_type": "code",
   "execution_count": null,
   "metadata": {},
   "outputs": [],
   "source": [
    "class MyClass:\n",
    "    def __new__(cls, *args, **kwargs):\n",
    "        print(\"Создание объекта\")\n",
    "        instance = super().__new__(cls)  # Создаем объект\n",
    "        return instance\n",
    "\n",
    "    def __init__(self, value):\n",
    "        print(\"Инициализация объекта\")\n",
    "        self.value = value"
   ]
  },
  {
   "cell_type": "code",
   "execution_count": null,
   "metadata": {},
   "outputs": [],
   "source": [
    "obj = MyClass(10)\n",
    "# Вывод:\n",
    "# Создание объекта\n",
    "# Инициализация объекта"
   ]
  },
  {
   "cell_type": "markdown",
   "metadata": {},
   "source": [
    "#### Использование ```__new__``` для ```Singleton```:"
   ]
  },
  {
   "cell_type": "code",
   "execution_count": null,
   "metadata": {},
   "outputs": [],
   "source": [
    "class Singleton:\n",
    "    _instance = None\n",
    "\n",
    "    def __new__(cls, *args, **kwargs):\n",
    "        if cls._instance is None:\n",
    "            cls._instance = super().__new__(cls)\n",
    "        return cls._instance\n",
    "\n",
    "a = Singleton()\n",
    "b = Singleton()\n",
    "print(a is b)  # Вывод: True (это один и тот же объект)\n",
    "print(a)\n",
    "print(b)"
   ]
  },
  {
   "cell_type": "markdown",
   "metadata": {},
   "source": [
    "---\n",
    "### ```__init__```\n",
    "\n",
    "Метод ```__init__``` отвечает за инициализацию объекта. Он вызывается после ```__new__``` и используется для установки начальных значений атрибутов объекта.\n",
    "\n",
    "__Особенности:__\n",
    "\n",
    "Принимает созданный объект (```self```) в качестве первого аргумента.\n",
    "Не возвращает значение (если возвращает, то это должно быть ```None```).\n",
    "Вызывается автоматически при создании объекта.\n",
    "\n",
    "__Пример:__"
   ]
  },
  {
   "cell_type": "code",
   "execution_count": null,
   "metadata": {},
   "outputs": [],
   "source": [
    "class MyClass:\n",
    "    def __init__(self, value):\n",
    "        print(\"Инициализация объекта\")\n",
    "        self.value = value"
   ]
  },
  {
   "cell_type": "code",
   "execution_count": null,
   "metadata": {},
   "outputs": [],
   "source": [
    "obj = MyClass(10)\n",
    "print(obj.value)  # Вывод: 10"
   ]
  },
  {
   "cell_type": "markdown",
   "metadata": {},
   "source": [
    "---\n",
    "### ```__del__```\n",
    "\n",
    "Метод ```__del__``` вызывается, когда объект собирается быть уничтоженным сборщиком мусора. Он используется для выполнения cleanup-операций, таких как закрытие файлов, освобождение ресурсов и т.д.\n",
    "\n",
    "Особенности:\n",
    "\n",
    "Не гарантируется, что ```__del__``` будет вызван (например, если программа завершается принудительно).\n",
    "Не следует полагаться на ```__del__``` для критически важных операций (лучше использовать контекстные менеджеры или явные методы).\n",
    "\n",
    "__Пример:__"
   ]
  },
  {
   "cell_type": "code",
   "execution_count": null,
   "metadata": {},
   "outputs": [],
   "source": [
    "class MyClass:\n",
    "    def __init__(self, name):\n",
    "        self.name = name\n",
    "\n",
    "    def __del__(self):\n",
    "        print(f\"Объект {self.name} уничтожен\")"
   ]
  },
  {
   "cell_type": "code",
   "execution_count": null,
   "metadata": {},
   "outputs": [],
   "source": [
    "obj = MyClass(\"Example\")\n",
    "del obj  # Вызов __del__\n",
    "# Вывод: Объект Example уничтожен"
   ]
  },
  {
   "cell_type": "code",
   "execution_count": null,
   "metadata": {},
   "outputs": [],
   "source": [
    "obj_1 = MyClass(\"Example 1\")\n",
    "obj_2 = MyClass(\"Example 2\")\n",
    "\n",
    "lst_ = [obj_1, obj_2]\n",
    "del lst_"
   ]
  },
  {
   "cell_type": "markdown",
   "metadata": {},
   "source": [
    "___\n",
    "___\n",
    "## Приведение к стандартным типам данных\n",
    "\n",
    "* ```__int__(self)```\n",
    "\n",
    "Преобразование типа в ```int```.\n",
    "\n",
    "* ```__long__(self)```\n",
    "\n",
    "Преобразование типа в ```long```.\n",
    "\n",
    "* ```__float__(self)```\n",
    "\n",
    "Преобразование типа в ```float```.\n",
    "\n",
    "* ```__complex__(self)```\n",
    "\n",
    "Преобразование типа в комплексное число.\n",
    "\n",
    "* ```__oct__(self)```\n",
    "\n",
    "Преобразование типа в восьмеричное число.\n",
    "\n",
    "* ```__hex__(self)```\n",
    "\n",
    "Преобразование типа в шестнадцатиричное число.\n",
    "\n",
    "* ```__index__(self)```\n",
    "\n",
    "Преобразование типа к ```int```, когда объект используется в срезах (выражения вида ```[start:stop:step]```). Если вы определяете свой числовый тип, который может использоваться как индекс списка, вы должны определить ```__index__```.\n",
    "\n",
    "* ```__trunc__(self)```\n",
    "\n",
    "Вызывается при math.trunc(self). Должен вернуть своё значение, обрезанное до целочисленного типа (обычно ```long```).\n",
    "\n",
    "* ```__coerce__(self, other)```\n",
    "\n",
    "Метод для реализации арифметики с операндами разных типов. ```__coerce__``` должен вернуть None если преобразование типов невозможно. Если преобразование возможно, он должен вернуть пару (кортеж из 2-х элементов) из ```self``` и ```other```, преобразованные к одному типу."
   ]
  },
  {
   "cell_type": "markdown",
   "metadata": {},
   "source": [
    "---\n",
    "### ```__str__```\n",
    "Определяет строковое представление объекта. \n",
    "\n",
    "Вызывается функциями ```str()``` и ```print()```."
   ]
  },
  {
   "cell_type": "code",
   "execution_count": null,
   "metadata": {},
   "outputs": [],
   "source": [
    "class MyClass:\n",
    "    def __init__(self, value):\n",
    "        self.value = value\n",
    "\n",
    "    def __str__(self):\n",
    "        return f\"MyClass with value: {self.value}\""
   ]
  },
  {
   "cell_type": "code",
   "execution_count": null,
   "metadata": {},
   "outputs": [],
   "source": [
    "obj_1 = MyClass(10)\n",
    "obj_2 = MyClass(20)\n",
    "obj_3 = MyClass(30)\n",
    "obj_4 = MyClass(40)\n",
    "\n",
    "print(obj_1)  # Вывод: MyClass with value: 10\n",
    "print(obj_2)  # Вывод: MyClass with value: 20\n",
    "print(obj_3)  # Вывод: MyClass with value: 30\n",
    "print(obj_4)  # Вывод: MyClass with value: 40"
   ]
  },
  {
   "cell_type": "code",
   "execution_count": null,
   "metadata": {},
   "outputs": [],
   "source": [
    "obj_lst = [obj_1, obj_2, obj_3, obj_4]\n",
    "print(obj_lst)"
   ]
  },
  {
   "cell_type": "markdown",
   "metadata": {},
   "source": [
    "___\n",
    "### ```__repr__```\n",
    "Возвращает однозначное строковое представление объекта, которое может быть использовано для воссоздания объекта. Вызывается функцией repr()."
   ]
  },
  {
   "cell_type": "code",
   "execution_count": null,
   "metadata": {},
   "outputs": [],
   "source": [
    "class MyClass:\n",
    "    def __init__(self, value):\n",
    "        self.value = value\n",
    "        \n",
    "    def __str__(self):\n",
    "        return f\"MyClass with value: {self.value}\"\n",
    "        \n",
    "    def __repr__(self):\n",
    "        return f\"MyClass({self.value})\""
   ]
  },
  {
   "cell_type": "code",
   "execution_count": null,
   "metadata": {},
   "outputs": [],
   "source": [
    "obj = MyClass(10)\n",
    "print(repr(obj))  # Вывод: MyClass(10)"
   ]
  },
  {
   "cell_type": "code",
   "execution_count": null,
   "metadata": {},
   "outputs": [],
   "source": [
    "obj_1 = MyClass(10)\n",
    "obj_2 = MyClass(20)\n",
    "obj_3 = MyClass(30)\n",
    "obj_4 = MyClass(40)\n",
    "\n",
    "obj_lst = [obj_1, obj_2, obj_3, obj_4]\n",
    "\n",
    "print(obj_1)\n",
    "print(obj_lst)"
   ]
  },
  {
   "cell_type": "markdown",
   "metadata": {},
   "source": [
    "---\n",
    "---\n",
    "## Арифметические операторы"
   ]
  },
  {
   "cell_type": "markdown",
   "metadata": {},
   "source": [
    "### Обычные арифметические операторы"
   ]
  },
  {
   "cell_type": "markdown",
   "metadata": {},
   "source": [
    "\n",
    "Рассмотрим обычные бинарные операторы (и ещё пару функций): ```+```, ```-```, ```*``` и похожие. \n",
    "\n",
    "Они, по большей части, отлично сами себя описывают.\n",
    "\n",
    "* ```__add__(self, other)```\n",
    "\n",
    "Сложение.\n",
    "\n",
    "* ```__sub__(self, other)```\n",
    "\n",
    "Вычитание.\n",
    "\n",
    "* ```__mul__(self, other)```\n",
    "\n",
    "Умножение.\n",
    "\n",
    "* ```__floordiv__(self, other)```\n",
    "\n",
    "Целочисленное деление, оператор ```//```.\n",
    "\n",
    "* ```__div__(self, other)```\n",
    "\n",
    "Деление, оператор ```/```.\n",
    "\n",
    "* ```__truediv__(self, other)```\n",
    "\n",
    "Правильное деление. Заметьте, что это работает только когда используется ```from __future__ import division```.\n",
    "\n",
    "* ```__mod__(self, other)```\n",
    "\n",
    "Остаток от деления, оператор ```%```.\n",
    "\n",
    "* ```__divmod__(self, other)```\n",
    "\n",
    "Определяет поведение для встроенной функции ```divmod()```.\n",
    "\n",
    "* ```__pow__```\n",
    "\n",
    "Возведение в степень, оператор ```**```.\n",
    "\n",
    "* ```__lshift__(self, other)```\n",
    "\n",
    "Двоичный сдвиг влево, оператор ```<<```.\n",
    "\n",
    "* ```__rshift__(self, other)```\n",
    "\n",
    "Двоичный сдвиг вправо, оператор ```>>```.\n",
    "\n",
    "* ```__and__(self, other)```\n",
    "\n",
    "Двоичное И, оператор ```&```.\n",
    "\n",
    "* ```__or__(self, other)```\n",
    "\n",
    "Двоичное ИЛИ, оператор ```|```.\n",
    "\n",
    "* ```__xor__(self, other)```\n",
    "\n",
    "Двоичный xor, оператор ```^```."
   ]
  },
  {
   "cell_type": "markdown",
   "metadata": {},
   "source": [
    "__Например:__\n",
    "___\n",
    "#### ```__add__```\n",
    "Определяет поведение оператора сложения (```+```)."
   ]
  },
  {
   "cell_type": "code",
   "execution_count": null,
   "metadata": {},
   "outputs": [],
   "source": [
    "class Point:\n",
    "    def __init__(self, x, y):\n",
    "        self.x = x\n",
    "        self.y = y\n",
    "\n",
    "    def __add__(self, other):\n",
    "        return Point(self.x + other.x, self.y + other.y)\n",
    "\n",
    "    def __str__(self):\n",
    "        return f\"Point({self.x}, {self.y})\""
   ]
  },
  {
   "cell_type": "code",
   "execution_count": null,
   "metadata": {},
   "outputs": [],
   "source": [
    "p1 = Point(1, 2)\n",
    "p2 = Point(3, 4)\n",
    "p3 = p1 + p2\n",
    "print(p3)  # Вывод: Point(4, 6)"
   ]
  },
  {
   "cell_type": "markdown",
   "metadata": {},
   "source": [
    "___\n",
    "### Отражённые арифметические операторы\n",
    "\n",
    "Вы могли подумать, что это какая-то большая, страшная и непонятная концепция. На самом деле всё очень просто. Вот пример:\n",
    "\n",
    "```python\n",
    "some_object + other\n",
    "```\n",
    "\n",
    "Это «обычное» сложение. Единственное, чем отличается эквивалентное отражённое выражение, это порядок слагаемых:\n",
    "\n",
    "```python\n",
    "other + some_object\n",
    "```\n",
    "\n",
    "Таким образом, все эти магические методы делают то же самое, что и их обычные версии, за исключением выполнения операции с ```other``` в качестве первого операнда и ```self``` в качестве второго. \n",
    "\n",
    "В большинстве случаев, результат отражённой операции такой же, как её обычный эквивалент, поэтому при определении ```__radd__``` вы можете ограничиться вызовом ```__add__``` да и всё. Заметьте, что объект слева от оператора (```other``` в примере) не должен иметь обычной неотражённой версии этого метода. В нашем примере, ```some_object```.```__radd__``` будет вызван только если в ```other``` не определён ```__add__```.\n",
    "\n",
    "* ```__radd__(self, other)```\n",
    "\n",
    "Отражённое сложение.\n",
    "\n",
    "* ```__rsub__(self, other)```\n",
    "\n",
    "Отражённое вычитание.\n",
    "\n",
    "* ```__rmul__(self, other)```\n",
    "\n",
    "Отражённое умножение.\n",
    "\n",
    "* ```__rfloordiv__(self, other)```\n",
    "\n",
    "Отражённое целочисленное деление, оператор ```//```.\n",
    "\n",
    "* ```__rdiv__(self, other)```\n",
    "\n",
    "Отражённое деление, оператор ```/```.\n",
    "\n",
    "* ```__rtruediv__(self, other)```\n",
    "\n",
    "Отражённое правильное деление. Заметьте, что работает только когда используется ```from __future__ import division```.\n",
    "\n",
    "* ```__rmod__(self, other)```\n",
    "\n",
    "Отражённый остаток от деления, оператор ```%```.\n",
    "\n",
    "* ```__rdivmod__(self, other)```\n",
    "\n",
    "Определяет поведение для встроенной функции ```divmod()```, когда вызывается ```ivmod(other, self)```.\n",
    "\n",
    "* ```__rpow__```\n",
    "\n",
    "Отражённое возведение в степерь, оператор ```**```.\n",
    "\n",
    "* ```__rlshift__(self, other)```\n",
    "\n",
    "Отражённый двоичный сдвиг влево, оператор ```<<```.\n",
    "\n",
    "* ```__rrshift__(self, other)```\n",
    "\n",
    "Отражённый двоичный сдвиг вправо, оператор ```>>```.\n",
    "\n",
    "* ```__rand__(self, other)```\n",
    "\n",
    "Отражённое двоичное И, оператор ```&```.\n",
    "\n",
    "* ```__ror__(self, other)```\n",
    "\n",
    "Отражённое двоичное ИЛИ, оператор ```|```.\n",
    "\n",
    "* ```__rxor__(self, other)```\n",
    "\n",
    "Отражённый двоичный xor, оператор ```^```."
   ]
  },
  {
   "cell_type": "markdown",
   "metadata": {},
   "source": [
    "__Например:__\n",
    "___\n",
    "#### ```__rsub__```\n",
    "Определяет инвертированное поведение оператора вычитания (```-```)."
   ]
  },
  {
   "cell_type": "code",
   "execution_count": null,
   "metadata": {},
   "outputs": [],
   "source": [
    "class MyNumber:\n",
    "    def __init__(self, value):\n",
    "        self.value = value\n",
    "\n",
    "    def __sub__(self, other):\n",
    "        return self.value - other\n",
    "\n",
    "    # def __rsub__(self, other):\n",
    "    #     return other - self.value"
   ]
  },
  {
   "cell_type": "code",
   "execution_count": null,
   "metadata": {},
   "outputs": [],
   "source": [
    "num = MyNumber(10)\n",
    "\n",
    "result = num - 5 # Вызов __sub__\n",
    "print(result)  # Вывод: 5"
   ]
  },
  {
   "cell_type": "code",
   "execution_count": null,
   "metadata": {},
   "outputs": [],
   "source": [
    "num = MyNumber(10)\n",
    "result = 5 - num  # Вызов __rsub__\n",
    "print(result)  # Вывод: -5"
   ]
  },
  {
   "cell_type": "markdown",
   "metadata": {},
   "source": [
    "### Составное присваивание\n",
    "\n",
    "В Питоне широко представлены и магические методы для составного присваивания. Вы уже знакомы с составным присваиванием, это комбинация «обычного» оператора и присваивания. Если всё ещё непонятно, вот пример:\n",
    "\n",
    "```python\n",
    "x = 5\n",
    "x += 1 # другими словами x = x + 1\n",
    "```\n",
    "\n",
    "Каждый из этих методов должен возвращать значение, которое будет присвоено переменной слева (например, для ```a += b```, ```__iadd__``` должен вернуть ```a + b```, что будет присвоено ```a```). Вот список:\n",
    "\n",
    "* ```__iadd__(self, other)```\n",
    "\n",
    "Сложение с присваиванием.\n",
    "\n",
    "* ```__isub__(self, other)```\n",
    "\n",
    "Вычитание с присваиванием.\n",
    "\n",
    "* ```__imul__(self, other)```\n",
    "\n",
    "Умножение с присваиванием.\n",
    "\n",
    "* ```__ifloordiv__(self, other)```\n",
    "\n",
    "Целочисленное деление с присваиванием, оператор ```//=```.\n",
    "\n",
    "* ```__idiv__(self, other)```\n",
    "\n",
    "Деление с присваиванием, оператор ```/=```.\n",
    "\n",
    "* ```__itruediv__(self, other)```\n",
    "\n",
    "Правильное деление с присваиванием. Заметьте, что работает только если используется ```from __future__ import division```.\n",
    "\n",
    "* ```__imod_(self, other)```\n",
    "\n",
    "Остаток от деления с присваиванием, оператор ```%=```.\n",
    "\n",
    "* ```__ipow__```\n",
    "\n",
    "Возведение в степерь с присваиванием, оператор ```**=```.\n",
    "\n",
    "* ```__ilshift__(self, other)```\n",
    "\n",
    "Двоичный сдвиг влево с присваиванием, оператор ```<<=```.\n",
    "\n",
    "* ```__irshift__(self, other)```\n",
    "\n",
    "Двоичный сдвиг вправо с присваиванием, оператор ```>>=```.\n",
    "\n",
    "* ```__iand__(self, other)```\n",
    "\n",
    "Двоичное И с присваиванием, оператор ```&=```.\n",
    "\n",
    "* ```__ior__(self, other)```\n",
    "\n",
    "Двоичное ИЛИ с присваиванием, оператор ```|=```.\n",
    "\n",
    "* ```__ixor__(self, other)```\n",
    "\n",
    "Двоичный xor с присваиванием, оператор ```^=```."
   ]
  },
  {
   "cell_type": "markdown",
   "metadata": {},
   "source": [
    "__Например:__\n",
    "___\n",
    "#### ```__iadd__```\n",
    "Определяет инвертированное поведение оператора вычитания (```+=```)."
   ]
  },
  {
   "cell_type": "code",
   "execution_count": null,
   "metadata": {},
   "outputs": [],
   "source": [
    "class MyNumber:\n",
    "    def __init__(self, value):\n",
    "        self.value = value\n",
    "\n",
    "    def __add__(self, other):\n",
    "        return self.value + other\n",
    "\n",
    "    def __str__(self):\n",
    "        return self.value\n",
    "\n",
    "    # def __str__(self):\n",
    "    #     return str(self.value)"
   ]
  },
  {
   "cell_type": "code",
   "execution_count": null,
   "metadata": {},
   "outputs": [],
   "source": [
    "num = MyNumber(10)\n",
    "\n",
    "result = num + 5 # Вызов __add__\n",
    "print(result)  # Вывод: 15\n",
    "print(num)\n",
    "# print(type(num))"
   ]
  },
  {
   "cell_type": "code",
   "execution_count": null,
   "metadata": {},
   "outputs": [],
   "source": [
    "num = MyNumber(10)\n",
    "\n",
    "num += 5\n",
    "print(num)\n",
    "print(num)\n",
    "# print(type(num))"
   ]
  },
  {
   "cell_type": "code",
   "execution_count": null,
   "metadata": {},
   "outputs": [],
   "source": [
    "class MyNumber:\n",
    "    def __init__(self, value):\n",
    "        self.value = value\n",
    "\n",
    "    def __add__(self, other):\n",
    "        return self.value + other\n",
    "\n",
    "    def __iadd__(self, other):\n",
    "        self.value = self.value + other\n",
    "        return self\n",
    "\n",
    "    def __str__(self):\n",
    "        return str(self.value)"
   ]
  },
  {
   "cell_type": "code",
   "execution_count": null,
   "metadata": {},
   "outputs": [],
   "source": [
    "num = MyNumber(10)\n",
    "\n",
    "num += 5\n",
    "print(num)\n",
    "print(num)\n",
    "print(type(num))"
   ]
  },
  {
   "cell_type": "markdown",
   "metadata": {},
   "source": [
    "___\n",
    "___\n",
    "### Унарные операторы и функции\n",
    "\n",
    "Унарные операторы и функции имеют только один операнд — отрицание, абсолютное значение, и так далее.\n",
    "\n",
    "* ```__pos__(self)```\n",
    "\n",
    "Определяет поведение для унарного плюса (```+some_object```)\n",
    "\n",
    "* ```__neg__(self)```\n",
    "\n",
    "Определяет поведение для отрицания(```-some_object```)\n",
    "\n",
    "* ```__abs__(self)```\n",
    "\n",
    "Определяет поведение для встроенной функции ```abs()```.\n",
    "\n",
    "* ```__invert__(self)```\n",
    "\n",
    "Определяет поведение для инвертирования оператором ```~```. Для объяснения что он делает смотри статью в Википедии о бинарных операторах.\n",
    "\n",
    "* ```__round__(self, n)```\n",
    "\n",
    "Определяет поведение для встроенной функции ```round()```. ```n``` это число знаков после запятой, до которого округлить.\n",
    "\n",
    "* ```__floor__(self)```\n",
    "\n",
    "Определяет поведение для ```math.floor()```, то есть, округления до ближайшего меньшего целого.\n",
    "\n",
    "* ```__ceil__(self)```\n",
    "\n",
    "Определяет поведение для ```math.ceil()```, то есть, округления до ближайшего большего целого.\n",
    "\n",
    "* ```__trunc__(self)```\n",
    "\n",
    "Определяет поведение для ```math.trunc()```, то есть, обрезания до целого."
   ]
  },
  {
   "cell_type": "markdown",
   "metadata": {},
   "source": [
    "__Например:__\n",
    "\n",
    "---\n",
    "#### ```__round__``` и ```__invert__```\n",
    "Определяет поведение опреатора инвертирования ```~``` и стандартной функции ```round```."
   ]
  },
  {
   "cell_type": "code",
   "execution_count": null,
   "metadata": {},
   "outputs": [],
   "source": [
    "class Point:\n",
    "    def __init__(self, x, y):\n",
    "        self.x = x\n",
    "        self.y = y\n",
    "\n",
    "    def __str__(self):\n",
    "        return f\"Point({self.x}, {self.y})\"\n",
    "\n",
    "    def __round__(self, n):\n",
    "        self.x = round(self.x, n)\n",
    "        self.y = round(self.y, n)\n",
    "\n",
    "class Line:\n",
    "    def __init__(self, point_0, point_1):\n",
    "        self.point_0 = point_0\n",
    "        self.point_1 = point_1\n",
    "\n",
    "    def __str__(self):\n",
    "        return f\"Line (p0: {self.point_0} - p1: {self.point_1})\"\n",
    "\n",
    "    def __invert__(self):\n",
    "        self.point_0, self.point_1 = self.point_1, self.point_0"
   ]
  },
  {
   "cell_type": "code",
   "execution_count": null,
   "metadata": {},
   "outputs": [],
   "source": [
    "p0 = Point(10.001, 10.999)\n",
    "p1 = Point(20, 20)\n",
    "\n",
    "line = Line(p0, p1)\n",
    "print(line)\n",
    "\n",
    "~line\n",
    "print(line)\n",
    "\n",
    "round(p0, 0)\n",
    "print(p0)\n",
    "\n",
    "print(~line)\n",
    "print(line)"
   ]
  },
  {
   "cell_type": "markdown",
   "metadata": {},
   "source": [
    "---\n",
    "---\n",
    "## Методы сравнения\n",
    "\n",
    "В Питоне уйма магических методов, созданных для определения интуитивного сравнения между объектами используя операторы, а не неуклюжие методы. Кроме того, они предоставляют способ переопределить поведение Питона по-умолчанию для сравнения объектов (по ссылке). Вот список этих методов и что они делают:\n",
    "\n",
    "* ```__cmp__(self, other)```\n",
    "\n",
    "Самый базовый из методов сравнения. Он, в действительности, определяет поведение для всех операторов сравнения (```>, ==, !=, итд.```), но не всегда так, как вам это нужно (например, если эквивалентность двух экземпляров определяется по одному критерию, а то что один больше другого по какому-нибудь другому). ```__cmp__``` должен вернуть отрицательное число, если ```self < other```, ноль, если ```self == other```, и положительное число в случае ```self > other```. Но, обычно, лучше определить каждое сравнение, которое вам нужно, чем определять их всех в ```__cmp__```. Но ```__cmp__``` может быть хорошим способом избежать повторений и увеличить ясность, когда все необходимые сравнения оперерируют одним критерием.\n",
    "\n",
    "* ```__eq__(self, other)```\n",
    "\n",
    "Определяет поведение оператора равенства, ```==```.\n",
    "\n",
    "* ```__ne__(self, other)```\n",
    "\n",
    "Определяет поведение оператора неравенства, ```!=```.\n",
    "\n",
    "* ```__lt__(self, other)```\n",
    "\n",
    "Определяет поведение оператора меньше, ```<```.\n",
    "\n",
    "* ```__gt__(self, other)```\n",
    "\n",
    "Определяет поведение оператора больше, ```>```.\n",
    "\n",
    "* ```__le__(self, other)```\n",
    "\n",
    "Определяет поведение оператора меньше или равно, ```<=```.\n",
    "\n",
    "* ```__ge__(self, other)```\n",
    "\n",
    "Определяет поведение оператора больше или равно, ```>=```.\n",
    "\n"
   ]
  },
  {
   "cell_type": "markdown",
   "metadata": {},
   "source": [
    "__Например:__\n",
    "\n",
    "---\n",
    "### ```__eq__```\n",
    "Определяет поведение оператора сравнения (```==```)."
   ]
  },
  {
   "cell_type": "code",
   "execution_count": null,
   "metadata": {},
   "outputs": [],
   "source": [
    "class Point:\n",
    "    def __init__(self, x, y):\n",
    "        self.x = x\n",
    "        self.y = y\n",
    "\n",
    "    def __eq__(self, other):\n",
    "        return self.x == other.x and self.y == other.y"
   ]
  },
  {
   "cell_type": "code",
   "execution_count": null,
   "metadata": {},
   "outputs": [],
   "source": [
    "p1 = Point(1, 2)\n",
    "p2 = Point(1, 2)\n",
    "print(p1 == p2)  # Вывод: True"
   ]
  },
  {
   "cell_type": "code",
   "execution_count": null,
   "metadata": {},
   "outputs": [],
   "source": [
    "p1 = Point(1, 2)\n",
    "p2 = Point(10, 20)\n",
    "print(p1 == p2)  # Вывод: False"
   ]
  },
  {
   "cell_type": "code",
   "execution_count": null,
   "metadata": {},
   "outputs": [],
   "source": [
    "p1 = Point(1, 2)\n",
    "p2 = Point(1, 2)\n",
    "print(p1 != p2)  # Вывод: False"
   ]
  },
  {
   "cell_type": "markdown",
   "metadata": {},
   "source": [
    "В качестве еще одного примера расммотрим класс, описывающий слово. \n",
    "\n",
    "Мы можем сравнивать слова лексиграфически (по алфавиту), что является стандатрным поведением при сравнении строк, но можем захотеть использовать при сравнении какой-нибудь другой критерий, такой, как длина или количество слогов. \n",
    "\n",
    "В этом примере мы будем сравнивать по длине первого слова в строке. \n",
    "\n",
    "__Вот реализация:__"
   ]
  },
  {
   "cell_type": "code",
   "execution_count": null,
   "metadata": {},
   "outputs": [],
   "source": [
    "class Word(str):\n",
    "    '''Класс для слов, определяющий сравнение по длине слов.'''\n",
    "\n",
    "    def __new__(cls, word):\n",
    "        # Мы должны использовать __new__, так как тип str неизменяемый\n",
    "        # и мы должны инициализировать его раньше (при создании)\n",
    "        if ' ' in word:\n",
    "            print(\"Value contains spaces. Truncating to first space.\\n\")\n",
    "            word = word[:word.index(' ')] # Теперь Word это все символы до первого пробела\n",
    "        return str.__new__(cls, word)\n",
    "\n",
    "    def __gt__(self, other):\n",
    "        return len(self) > len(other)\n",
    "    \n",
    "    def __lt__(self, other):\n",
    "        return len(self) < len(other)\n",
    "    \n",
    "    def __ge__(self, other):\n",
    "        return len(self) >= len(other)\n",
    "    \n",
    "    def __le__(self, other):\n",
    "        return len(self) <= len(other)"
   ]
  },
  {
   "cell_type": "code",
   "execution_count": null,
   "metadata": {},
   "outputs": [],
   "source": [
    "word1 = Word(\"abc\")\n",
    "word2 = Word(\"zxc\")\n",
    "word3 = Word(\"qwe123\")"
   ]
  },
  {
   "cell_type": "code",
   "execution_count": null,
   "metadata": {},
   "outputs": [],
   "source": [
    "word4 = Word(\"qwe 123\")\n",
    "\n",
    "print(word1 < word4)\n",
    "print(word1 <= word4)\n",
    "print(word1 > word4)\n",
    "print(word1 >= word4)"
   ]
  },
  {
   "cell_type": "markdown",
   "metadata": {},
   "source": [
    "Заметьте, что мы не определяли ```__eq__``` и ```__ne__```, так как это приведёт к странному поведению (например, ```Word('foo') == Word('bar')``` будет расцениваться как истина). В этом нет смысла при тестировании на эквивалентность, основанную на длине, поэтому мы оставляем стандартную проверку на эквивалентность от ```str```."
   ]
  },
  {
   "cell_type": "code",
   "execution_count": null,
   "metadata": {},
   "outputs": [],
   "source": [
    "print(Word('foo') == Word('bar'))\n",
    "print(Word('bar') == Word('foo'))\n",
    "\n",
    "print(Word('foo') != Word('bar'))\n",
    "print(Word('bar') != Word('foo'))"
   ]
  },
  {
   "cell_type": "markdown",
   "metadata": {},
   "source": [
    "---\n",
    "#### ```__hash__(self)```\n",
    "\n",
    "Определяет поведение функции ```hash()```, вызыванной для экземпляра вашего класса. Метод должен возвращать целочисленное значение, которое будет использоваться для быстрого сравнения ключей в словарях. Заметьте, что в таком случае обычно нужно определять и ```__eq__``` тоже. Руководствуйтесь следующим правилом: ```a == b``` подразумевает ```hash(a) == hash(b)```."
   ]
  },
  {
   "cell_type": "code",
   "execution_count": null,
   "metadata": {},
   "outputs": [],
   "source": [
    "class Point:\n",
    "    def __init__(self, x, y):\n",
    "        self.x = x\n",
    "        self.y = y\n",
    "\n",
    "    def __repr__(self):\n",
    "        return f\"Point({self.x}, {self.y})\"\n",
    "\n",
    "    def __eq__(self, other):\n",
    "        return self.x == other.x and self.y == other.y\n",
    "\n",
    "    # def __hash__(self):\n",
    "    #     return 1"
   ]
  },
  {
   "cell_type": "code",
   "execution_count": null,
   "metadata": {},
   "outputs": [],
   "source": [
    "p1 = Point(1, 2)\n",
    "p2 = Point(1, 2)\n",
    "print(p1 == p2)  # Вывод: True"
   ]
  },
  {
   "cell_type": "code",
   "execution_count": null,
   "metadata": {},
   "outputs": [],
   "source": [
    "set_ = set([p1, p2])\n",
    "print(set_)"
   ]
  },
  {
   "cell_type": "code",
   "execution_count": null,
   "metadata": {},
   "outputs": [],
   "source": [
    "dict_ = {p1: \"Point1\",\n",
    "         p2: \"Point2\",\n",
    "        }\n",
    "\n",
    "print(dict_)"
   ]
  },
  {
   "cell_type": "code",
   "execution_count": null,
   "metadata": {},
   "outputs": [],
   "source": [
    "class Point:\n",
    "    def __init__(self, id_, x, y):\n",
    "        self.id_ = id_\n",
    "        self.x = x\n",
    "        self.y = y\n",
    "\n",
    "    def __repr__(self):\n",
    "        return f\"Point(id={self.id_}, x={self.x}, y={self.y})\"\n",
    "\n",
    "    def __eq__(self, other):\n",
    "        print(f\"Запуск метода __eq__ в объекте {self}\")\n",
    "        return self.x == other.x and self.y == other.y\n",
    "\n",
    "    # def __hash__(self):\n",
    "    #     return 1\n",
    "\n",
    "    def __hash__(self):\n",
    "        return self.id_"
   ]
  },
  {
   "cell_type": "code",
   "execution_count": null,
   "metadata": {},
   "outputs": [],
   "source": [
    "p1 = Point(id_=1, x=1, y=2)\n",
    "p2 = Point(id_=2, x=1, y=2)\n",
    "print(p1 == p2)  # Вывод: True"
   ]
  },
  {
   "cell_type": "code",
   "execution_count": null,
   "metadata": {},
   "outputs": [],
   "source": [
    "set_ = set([p1, p2])\n",
    "print(set_)"
   ]
  },
  {
   "cell_type": "markdown",
   "metadata": {},
   "source": [
    "---\n",
    "---\n",
    "## Создание произвольных последовательностей\n",
    "\n",
    "В Питоне существует множество способов заставить ваши классы вести себя как встроенные последовательности (словари, кортежи, списки, строки и так далее). Это, безусловно, мои любимые магические методы, из-за до абсурда высокой степени контроля, которую они дают и той магии, от которой с экземплярами ваших классов вдруг начинает прекрасно работать целое множество глобальных функций. \n",
    "\n",
    "### Магия контейнеров\n",
    "\n",
    "Без дальнейшего промедления, вот магические методы, используемые контейнерами:\n",
    "\n",
    "* ```__len__(self)```\n",
    "\n",
    "Возвращает количество элементов в контейнере. Часть протоколов для изменяемого и неизменяемого контейнеров.\n",
    "\n",
    "* ```__getitem__(self, key)```\n",
    "\n",
    "Определяет поведение при доступе к элементу, используя синтаксис ```self[key]```. Тоже относится и к протоколу изменяемых и к протоколу неизменяемых контейнеров. Должен выбрасывать соответствующие исключения: TypeError если неправильный тип ключа и KeyError если ключу не соответствует никакого значения.\n",
    "\n",
    "* ```__setitem__(self, key, value)```\n",
    "\n",
    "Определяет поведение при присваивании значения элементу, используя синтаксис ```self[nkey] = value```. Часть протокола изменяемого контейнера. Опять же, вы должны выбрасывать KeyError и TypeError в соответсвующих случаях.\n",
    "\n",
    "* ```__delitem__(self, key)```\n",
    "\n",
    "Определяет поведение при удалении элемента (то есть ```del self[key]```). Это часть только протокола для изменяемого контейнера. Вы должны выбрасывать соответствующее исключение, если ключ некорректен.\n",
    "\n",
    "* ```__iter__(self)```\n",
    "\n",
    "Должен вернуть итератор для контейнера. Итераторы возвращаются в множестве ситуаций, главным образом для встроенной функции iter() и в случае перебора элементов контейнера выражением for x in container:. Итераторы сами по себе объекты и они тоже должны определять метод ```__iter__```, который возвращает ```self```.\n",
    "\n",
    "* ```__reversed__(self)```\n",
    "\n",
    "Вызывается чтобы определить поведения для встроенной функции reversed(). Должен вернуть обратную версию последовательности. Реализуйте метод только если класс упорядоченный, как список или кортеж.\n",
    "\n",
    "* ```__contains__(self, item)```\n",
    "\n",
    "```__contains__``` предназначен для проверки принадлежности элемента с помощью in и not in. Вы спросите, почему же это не часть протокола последовательности? Потому что когда __contains__ не определён, Питон просто перебирает всю последовательность элемент за элементом и возвращает True если находит нужный.\n",
    "\n",
    "* ```__missing__(self, key)```\n",
    "\n",
    "```__missing__``` используется при наследовании от dict. Определяет поведение для для каждого случая, когда пытаются получить элемент по несуществующему ключу (так, например, если у меня есть словарь d и я пишу ```d[\"george\"]``` когда ```\"george\"``` не является ключом в словаре, вызывается ```d.__missing__(\"george\")```).\n",
    "\n",
    "---\n",
    "### Примеры"
   ]
  },
  {
   "cell_type": "markdown",
   "metadata": {},
   "source": [
    "___\n",
    "#### ```__len__```\n",
    "Определяет поведение функции len(), возвращающей длину объекта."
   ]
  },
  {
   "cell_type": "code",
   "execution_count": null,
   "metadata": {},
   "outputs": [],
   "source": [
    "class MyList:\n",
    "    def __init__(self, items):\n",
    "        self.items = items\n",
    "\n",
    "    def __len__(self):\n",
    "        return len(self.items)"
   ]
  },
  {
   "cell_type": "code",
   "execution_count": null,
   "metadata": {},
   "outputs": [],
   "source": [
    "my_list = MyList([1, 2, 3])\n",
    "print(len(my_list))  # Вывод: 3"
   ]
  },
  {
   "cell_type": "markdown",
   "metadata": {},
   "source": [
    "---\n",
    "#### ```__getitem__``` и ```__setitem__```\n",
    "Позволяют объекту поддерживать индексацию и присваивание по индексу."
   ]
  },
  {
   "cell_type": "code",
   "execution_count": null,
   "metadata": {},
   "outputs": [],
   "source": [
    "class MyList:\n",
    "    def __init__(self, items):\n",
    "        self.items = items\n",
    "\n",
    "    # def __getitem__(self, index):\n",
    "    #     return self.items[index]\n",
    "\n",
    "    # def __setitem__(self, index, value):\n",
    "    #     self.items[index] = value"
   ]
  },
  {
   "cell_type": "code",
   "execution_count": null,
   "metadata": {},
   "outputs": [],
   "source": [
    "my_list = MyList([1, 2, 3])\n",
    "print(my_list[1])  # Вывод: 2\n",
    "my_list[1] = 10\n",
    "print(my_list[1])  # Вывод: 10"
   ]
  },
  {
   "cell_type": "markdown",
   "metadata": {},
   "source": [
    "---\n",
    "#### ```__call__```\n",
    "Позволяет объекту быть вызванным как функция."
   ]
  },
  {
   "cell_type": "code",
   "execution_count": null,
   "metadata": {},
   "outputs": [],
   "source": [
    "class Adder:\n",
    "    def __init__(self, value):\n",
    "        self.value = value\n",
    "\n",
    "    def __call__(self, x):\n",
    "        return self.value + x"
   ]
  },
  {
   "cell_type": "code",
   "execution_count": null,
   "metadata": {},
   "outputs": [],
   "source": [
    "adder = Adder(10)\n",
    "print(adder(5))  # Вывод: 15"
   ]
  },
  {
   "cell_type": "code",
   "execution_count": null,
   "metadata": {},
   "outputs": [],
   "source": [
    "class Point:\n",
    "    def __init__(self, x, y):\n",
    "        self.x = x\n",
    "        self.y = y\n",
    "\n",
    "    def __repr__(self):\n",
    "        return f\"Point({self.x}, {self.y})\"\n",
    "\n",
    "    def __call__(self, x, y):\n",
    "        self.x = x\n",
    "        self.y = y\n",
    "        return self"
   ]
  },
  {
   "cell_type": "code",
   "execution_count": null,
   "metadata": {},
   "outputs": [],
   "source": [
    "point = Point(10, 20)\n",
    "print(point)\n",
    "\n",
    "point(12, 42)\n",
    "print(point)"
   ]
  },
  {
   "cell_type": "markdown",
   "metadata": {},
   "source": [
    "---\n",
    "#### ```__iter__``` и ```__next__```\n",
    "Позволяют объекту быть итерируемым."
   ]
  },
  {
   "cell_type": "code",
   "execution_count": null,
   "metadata": {},
   "outputs": [],
   "source": [
    "class Point:\n",
    "    def __init__(self, x, y):\n",
    "        self.x = x\n",
    "        self.y = y\n",
    "\n",
    "    def __repr__(self):\n",
    "        return f\"Point({self.x}, {self.y})\""
   ]
  },
  {
   "cell_type": "code",
   "execution_count": null,
   "metadata": {},
   "outputs": [],
   "source": [
    "p1 = Point(10, 10)\n",
    "p2 = Point(20, 20)\n",
    "p3 = Point(30, 30)\n",
    "\n",
    "point_lst = [p1, p2, p3]\n",
    "print(point_lst)\n",
    "\n",
    "for point in point_lst:\n",
    "    print(point)"
   ]
  },
  {
   "cell_type": "code",
   "execution_count": null,
   "metadata": {},
   "outputs": [],
   "source": [
    "class Scan:\n",
    "    def __init__(self, points):\n",
    "        self.points = points\n",
    "\n",
    "    def __len__(self):\n",
    "        return len(self.points)"
   ]
  },
  {
   "cell_type": "code",
   "execution_count": null,
   "metadata": {},
   "outputs": [],
   "source": [
    "scan = Scan(point_lst)\n",
    "\n",
    "print(len(scan))"
   ]
  },
  {
   "cell_type": "code",
   "execution_count": null,
   "metadata": {},
   "outputs": [],
   "source": [
    "for point in scan.points:\n",
    "    print(point)"
   ]
  },
  {
   "cell_type": "code",
   "execution_count": null,
   "metadata": {},
   "outputs": [],
   "source": [
    "for point in scan:\n",
    "    print(point)"
   ]
  },
  {
   "cell_type": "code",
   "execution_count": null,
   "metadata": {},
   "outputs": [],
   "source": [
    "class Scan:\n",
    "    def __init__(self, points):\n",
    "        self.points = points\n",
    "\n",
    "    def __iter__(self):\n",
    "        return iter(self.points)\n",
    "\n",
    "    def __len__(self):\n",
    "        return len(self.points)"
   ]
  },
  {
   "cell_type": "code",
   "execution_count": null,
   "metadata": {},
   "outputs": [],
   "source": [
    "scan = Scan(point_lst)\n",
    "for point in scan:\n",
    "    print(point)"
   ]
  },
  {
   "cell_type": "markdown",
   "metadata": {},
   "source": [
    "---\n",
    "#### Создание своего итерируемого объекта"
   ]
  },
  {
   "cell_type": "code",
   "execution_count": null,
   "metadata": {},
   "outputs": [],
   "source": [
    "class MyRange:\n",
    "    def __init__(self, start, end):\n",
    "        self.start = start\n",
    "        self.end = end\n",
    "\n",
    "    def __iter__(self):\n",
    "        return self\n",
    "\n",
    "    def __next__(self):\n",
    "        if self.start >= self.end:\n",
    "            raise StopIteration\n",
    "        self.start += 1\n",
    "        return self.start - 1"
   ]
  },
  {
   "cell_type": "code",
   "execution_count": null,
   "metadata": {},
   "outputs": [],
   "source": [
    "for i in MyRange(1, 5):\n",
    "    print(i)  # Вывод: 1 2 3 4"
   ]
  },
  {
   "cell_type": "code",
   "execution_count": null,
   "metadata": {},
   "outputs": [],
   "source": [
    "i = iter(MyRange(1, 5))\n",
    "\n",
    "try:\n",
    "    while True:\n",
    "        print(next(i))\n",
    "except StopIteration:\n",
    "    pass"
   ]
  },
  {
   "cell_type": "markdown",
   "metadata": {},
   "source": [
    "---\n",
    "__Дополнительный пример:__"
   ]
  },
  {
   "cell_type": "code",
   "execution_count": null,
   "metadata": {},
   "outputs": [],
   "source": [
    "class FunctionalList:\n",
    "    '''Класс-обёртка над списком с добавлением некоторой функциональной магии: head,\n",
    "    tail, last, drop, take.'''\n",
    "\n",
    "    def __init__(self, values=None):\n",
    "        if values is None:\n",
    "            self.values = []\n",
    "        else:\n",
    "            self.values = values\n",
    "\n",
    "    def __len__(self):\n",
    "        return len(self.values)\n",
    "\n",
    "    def __getitem__(self, key):\n",
    "        # если значение или тип ключа некорректны, list выбросит исключение\n",
    "        return self.values[key]\n",
    "\n",
    "    def __setitem__(self, key, value):\n",
    "        self.values[key] = value\n",
    "\n",
    "    def __delitem__(self, key):\n",
    "        del self.values[key]\n",
    "\n",
    "    def __iter__(self):\n",
    "        return iter(self.values)\n",
    "\n",
    "    def __reversed__(self):\n",
    "        return FunctionalList(reversed(self.values))\n",
    "\n",
    "    def append(self, value):\n",
    "        self.values.append(value)\n",
    "        \n",
    "    def head(self):\n",
    "        # получить первый элемент\n",
    "        return self.values[0]\n",
    "        \n",
    "    def tail(self):\n",
    "        # получить все элементы после первого\n",
    "        return self.values[1:]\n",
    "        \n",
    "    def last(self):\n",
    "        # получить последний элемент\n",
    "        return self.values[-1]\n",
    "        \n",
    "    def drop(self, n):\n",
    "        # все элементы кроме первых n\n",
    "        return self.values[n:]\n",
    "        \n",
    "    def take(self, n):\n",
    "        # первые n элементов\n",
    "        return self.values[:n]"
   ]
  },
  {
   "cell_type": "markdown",
   "metadata": {},
   "source": [
    "---\n",
    "---\n",
    "## Менеджеры контекста\n",
    "\n",
    "В Питоне 2.5 было представлено новое ключевое слово вместе с новым способом повторно использовать код, ключевое слово ```with```. Концепция менеджеров контекста не являлась новой для Питона (она была реализована раньше как часть библиотеки), но в PEP 343 достигла статуса языковой конструкции. Вы могли уже видеть выражения с ```with```:\n",
    "\n",
    "```python\n",
    "with open('foo.txt') as bar:\n",
    "    # выполнение каких-нибудь действий с bar\n",
    "```\n",
    "\n",
    "Менеджеры контекста позволяют выполнить какие-то действия для настройки или очистки, когда создание объекта обёрнуто в оператор ```with```. Поведение менеджера контекста определяется двумя магическими методами:\n",
    "\n",
    "* ```__enter__(self)```\n",
    "\n",
    "Определяет, что должен сделать менеджер контекста в начале блока, созданного оператором ```with```. Заметьте, что возвращаемое ```__enter__``` значение и есть то значение, с которым производится работа внутри ```with```.\n",
    "\n",
    "* ```__exit__(self, exception_type, exception_value, traceback)```\n",
    "\n",
    "Определяет действия менеджера контекста после того, как блок будет выполнен (или прерван во время работы). Может использоваться для контроллирования исключений, чистки, любых действий которые должны быть выполнены незамедлительно после блока внутри ```with```. Если блок выполнен успешно, ```exception_type```, ```exception_value```, и ```traceback``` будут установлены в None. В другом случае вы сами выбираете, перехватывать ли исключение или предоставить это пользователю; если вы решили перехватить исключение, убедитесь, что ```__exit__``` возвращает True после того как всё сказано и сделано. Если вы не хотите, чтобы исключение было перехвачено менеджером контекста, просто позвольте ему случиться.\n",
    "\n",
    "```__enter__``` и ```__exit__``` могут быть полезны для специфичных классов с хорошо описанным и распространённым поведением для их настройки и очистки ресурсов. Вы можете использовать эти методы и для создания общих менеджеров контекста для разных объектов. Вот пример:"
   ]
  },
  {
   "cell_type": "markdown",
   "metadata": {},
   "source": [
    "```__enter__``` и ```__exit__```\n",
    "Используются для реализации контекстных менеджеров (с with)."
   ]
  },
  {
   "cell_type": "code",
   "execution_count": null,
   "metadata": {},
   "outputs": [],
   "source": [
    "class MyContextManager:\n",
    "    def __enter__(self):\n",
    "        print(\"Entering the context\")\n",
    "        return self\n",
    "\n",
    "    def __exit__(self, exc_type, exc_value, traceback):\n",
    "        print(\"Exiting the context\")"
   ]
  },
  {
   "cell_type": "code",
   "execution_count": null,
   "metadata": {},
   "outputs": [],
   "source": [
    "with MyContextManager() as cm:\n",
    "    print(\"Inside the context\")\n",
    "\n",
    "# Вывод:\n",
    "# Entering the context\n",
    "# Inside the context\n",
    "# Exiting the context"
   ]
  },
  {
   "cell_type": "code",
   "execution_count": null,
   "metadata": {},
   "outputs": [],
   "source": [
    "class Closer:\n",
    "    '''Менеджер контекста для автоматического закрытия объекта вызовом метода close \n",
    "    в with-выражении.'''\n",
    "\n",
    "    def __init__(self, obj):\n",
    "        self.obj = obj\n",
    "\n",
    "    def __enter__(self):\n",
    "        return self.obj # привязка к активному объекту with-блока\n",
    "\n",
    "    def __exit__(self, exception_type, exception_val, trace):\n",
    "        try:\n",
    "            self.obj.close()\n",
    "            print(\"Закрыто!\")\n",
    "        except AttributeError: # у объекта нет метода close\n",
    "            print('Not closable.')\n",
    "            return True # исключение перехвачено"
   ]
  },
  {
   "cell_type": "code",
   "execution_count": null,
   "metadata": {},
   "outputs": [],
   "source": [
    "with Closer(open(\"some_file\", \"w\")) as closer:\n",
    "    print(\"Делаем что-то\")"
   ]
  },
  {
   "cell_type": "code",
   "execution_count": null,
   "metadata": {},
   "outputs": [],
   "source": [
    "with Closer(123) as closer:\n",
    "    print(\"Делаем что-то\")"
   ]
  },
  {
   "cell_type": "markdown",
   "metadata": {},
   "source": [
    "---\n",
    "---\n",
    "## Примеры вызовов магических методов\n",
    "**Магический метод**|**Когда он вызывается (пример)**|**Объяснение**\n",
    ":-----:|:-----:|:-----:\n",
    "\\_\\_new\\_\\_(cls [,...])|instance = MyClass(arg1, arg2)|\\_\\_new\\_\\_ вызывается при создании экземпляра\n",
    "\\_\\_init\\_\\_(self [,...])|instance = MyClass(arg1, arg2)|\\_\\_init\\_\\_ вызывается при создании экземпляра\n",
    "\\_\\_cmp\\_\\_(self, other)|self == other, self > other, etc.|Вызывается для любого сравнения\n",
    "\\_\\_pos\\_\\_(self)|+self|Унарный знак плюса\n",
    "\\_\\_neg\\_\\_(self)|-self|Унарный знак минуса\n",
    "\\_\\_invert\\_\\_(self)|~self|Побитовая инверсия\n",
    "\\_\\_index\\_\\_(self)|x[self]|Преобразование, когда объект используется как индекс\n",
    "\\_\\_nonzero\\_\\_(self)|bool(self), if self:|Булевое значение объекта\n",
    "\\_\\_getattr\\_\\_(self, name)|self.name # name не определено|Пытаются получить несуществующий атрибут\n",
    "\\_\\_setattr\\_\\_(self, name, val)|self.name = val|Присвоение любому атрибуту\n",
    "\\_\\_delattr\\_\\_(self, name)|del self.name|Удаление атрибута\n",
    "\\_\\_getattribute\\_\\_(self, name)|self.name|Получить любой атрибут\n",
    "\\_\\_getitem\\_\\_(self, key)|self[key]|Получение элемента через индекс\n",
    "\\_\\_setitem\\_\\_(self, key, val)|self[key] = val|Присвоение элементу через индекс\n",
    "\\_\\_delitem\\_\\_(self, key)|del self[key]|Удаление элемента через индекс\n",
    "\\_\\_iter\\_\\_(self)|for x in self|Итерация\n",
    "\\_\\_contains\\_\\_(self, value)|value in self, value not in self|Проверка принадлежности с помощью in\n",
    "\\_\\_call\\_\\_(self [,...])|self(args)|«Вызов» экземпляра\n",
    "\\_\\_enter\\_\\_(self)|with self as x:|with оператор менеджеров контекста\n",
    "\\_\\_exit\\_\\_(self, exc, val, trace)|with self as x:|with оператор менеджеров контекста\n",
    "\\_\\_getstate\\_\\_(self)|pickle.dump(pkl\\_file, self)|Сериализация\n",
    "\\_\\_setstate\\_\\_(self)|data = pickle.load(pkl\\_file)|Сериализация"
   ]
  },
  {
   "cell_type": "markdown",
   "metadata": {},
   "source": [
    "---\n",
    "---\n",
    "## Заключение\n",
    "\n",
    "Магические методы делают ```Python``` гибким и мощным языком, позволяя программистам определять поведение объектов в различных контекстах. Они являются основой для создания интуитивно понятных и удобных в использовании классов."
   ]
  }
 ],
 "metadata": {
  "kernelspec": {
   "display_name": "Python 3 (ipykernel)",
   "language": "python",
   "name": "python3"
  },
  "language_info": {
   "codemirror_mode": {
    "name": "ipython",
    "version": 3
   },
   "file_extension": ".py",
   "mimetype": "text/x-python",
   "name": "python",
   "nbconvert_exporter": "python",
   "pygments_lexer": "ipython3",
   "version": "3.12.0"
  },
  "toc": {
   "base_numbering": 1,
   "nav_menu": {},
   "number_sections": true,
   "sideBar": true,
   "skip_h1_title": false,
   "title_cell": "Table of Contents",
   "title_sidebar": "Contents",
   "toc_cell": true,
   "toc_position": {},
   "toc_section_display": true,
   "toc_window_display": false
  }
 },
 "nbformat": 4,
 "nbformat_minor": 4
}

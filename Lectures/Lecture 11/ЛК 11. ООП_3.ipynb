{
 "cells": [
  {
   "cell_type": "markdown",
   "metadata": {},
   "source": [
    "# Объектно-ориентированное программирование. Часть 3"
   ]
  },
  {
   "cell_type": "markdown",
   "metadata": {},
   "source": [
    "## **S.O.L.I.D** принципы"
   ]
  },
  {
   "cell_type": "markdown",
   "metadata": {},
   "source": [
    "> **SOLID** — это мнемоническая аббревиатура для набора принципов проектирования, созданных для разработки программного обеспечения при помощи объектно-ориентированных языков. \n",
    "\n",
    "Принципы **SOLID** направленны на содействие разработки более простого, надежного и обновляемого кода. \n",
    "\n",
    "Каждая буква в аббревиатуре **SOLID** соответствует одному принципу разработки.\n",
    "\n",
    "При правильной реализации это делает ваш код более расширяемым, логичным и легким для чтения.\n"
   ]
  },
  {
   "cell_type": "markdown",
   "metadata": {},
   "source": [
    "> Подходы к разработке __SOLID__ — это абстрактные сущности, которые не привязаны к конкретному языку программирования. Они содержат такие рекомендации для разработчиков:\n",
    "\n",
    "- __S (SRP) — Single-responsibility principle (единственная ответственность)__. Любой класс должен иметь одну зону ответственности.\n",
    "- __O (OCP) — Open–closed principle (открытость и закрытость)__. Классы можно расширять, но желательно напрямую их не модифицировать. Другими словами, код, который уже создан, не должен подвергаться правкам. Разработчик имеет право только добавить что-то или исправить обнаруженные ошибки.\n",
    "- __L (LSP) — Liskov substitution principle (правило подстановки Барбары Лисков)__. Этот принцип самый трудный для понимания и немного абстрактный. Речь идет о логичности наследования; о том, что класс-предок можно поменять на дочерний, не ломая логику работы программы.\n",
    "- __I (ISP) — Interface segregation principle (разделение интерфейса)__. Суть этого принципа в преимуществе интерфейса, специально предназначенного для клиентов по сравнению с единым интерфейсом общего назначения для всех.\n",
    "- __D (DIP) — Dependency inversion principle (правило инверсии зависимостей)__. Более высокоуровневые модули не должны зависеть от более низкоуровневых, а в идеале они должны зависеть от некоторых абстракций. Детали не должны оказывать влияние на абстракции, а скорее абстракции должны влиять на детали."
   ]
  },
  {
   "cell_type": "markdown",
   "metadata": {},
   "source": [
    "'<img src=\"img/solid1.png\" width=\"600\">'"
   ]
  },
  {
   "cell_type": "markdown",
   "metadata": {},
   "source": [
    "### 1. Single Responsibility Principle (Принцип единственной обязанности)\n",
    "\n",
    "\n",
    "> Принцип единственной обязанности требует того, чтобы один класс выполнял только **одну** работу. \n",
    "\n",
    "Таким образом, если у класса есть более одной работы, он становится зависимым. Изменение поведения одной работы класса приводит к изменению в другой."
   ]
  },
  {
   "cell_type": "markdown",
   "metadata": {},
   "source": [
    "'<img src=\"img/solid2.png\" width=\"600\">'"
   ]
  },
  {
   "cell_type": "code",
   "execution_count": null,
   "metadata": {},
   "outputs": [],
   "source": [
    "# Below is Given a class which has two responsibilities \n",
    "class  User:\n",
    "    def __init__(self, name: str):\n",
    "        self.name = name\n",
    "    \n",
    "    def get_name(self):\n",
    "        print(f\"Get_name {self.name}\")\n",
    "\n",
    "    def save(self):\n",
    "        print(\"save\")"
   ]
  },
  {
   "cell_type": "markdown",
   "metadata": {},
   "source": [
    "Мы имеем класс ```User```, который ответственен за **две** работы — *свойства пользователя* и *управление базой данных*. \n",
    "\n",
    "Если в приложении будет изменен функционал управления базой данных для пользователя, тогда классы использующие свойства класса ```User``` тоже придется доработать и перекомпилировать, чтобы компенсировать новые изменения. Это как домино эффект, уроните одну кость, и она уронит все за ней следом."
   ]
  },
  {
   "cell_type": "code",
   "execution_count": null,
   "metadata": {},
   "outputs": [],
   "source": [
    "class  User:\n",
    "    def __init__(self, name: str):\n",
    "        self.name = name\n",
    "    \n",
    "    def get_name(self):\n",
    "        print(f\"Get_name {self.name}\")\n",
    "\n",
    "    def save(self, user):\n",
    "        print(\"save\")\n",
    "\n",
    "    def get_user(self, name):\n",
    "        print(f\"Get_user: {name}\")"
   ]
  },
  {
   "cell_type": "markdown",
   "metadata": {},
   "source": [
    "Мы же просто разделим класс. Мы создадим ещё один класс, который возьмет на себя одну ответственность — управление базой данных пользователя."
   ]
  },
  {
   "cell_type": "code",
   "execution_count": null,
   "metadata": {},
   "outputs": [],
   "source": [
    "class BaseUser:\n",
    "    def __init__(self, name: str):\n",
    "            self.name = name\n",
    "    \n",
    "    def get_name(self):\n",
    "        print(f\"Get_name {self.name}\")\n",
    "\n",
    "\n",
    "class UserDB:\n",
    "    def get_user(self, name):\n",
    "        print(f\"Get_user: {name}\")\n",
    "\n",
    "    def save(self):\n",
    "        print(\"save\")\n",
    "\n",
    "\n",
    "class User(BaseUser, UserDB):\n",
    "    def __init__(self, name: str):\n",
    "        super().__init__(name)"
   ]
  },
  {
   "cell_type": "code",
   "execution_count": null,
   "metadata": {},
   "outputs": [],
   "source": [
    "user = User(\"Name\")\n",
    "user.get_name()\n",
    "user.save()\n",
    "user_2 = user.get_user(\"Name\")"
   ]
  },
  {
   "cell_type": "code",
   "execution_count": null,
   "metadata": {},
   "outputs": [],
   "source": [
    "class BaseUser:\n",
    "    def __init__(self, name: str):\n",
    "        self.name = name\n",
    "    \n",
    "    def get_name(self):\n",
    "        print(f\"Get_name {self.name}\")\n",
    "\n",
    "\n",
    "class UserDB:\n",
    "    def get_user(self, name):\n",
    "        print(f\"Get_user: {name}\")\n",
    "\n",
    "    def save(self, user):\n",
    "        print(\"save\")\n",
    "\n",
    "\n",
    "class User:\n",
    "    def __init__(self, name: str):\n",
    "        self.b_user = BaseUser(name)\n",
    "        self.db = UserDB()\n",
    "    \n",
    "    def get_name(self):\n",
    "        return self.b_user.get_name()\n",
    "    \n",
    "    def save(self):\n",
    "        self.db.save(user=self) "
   ]
  },
  {
   "cell_type": "code",
   "execution_count": null,
   "metadata": {},
   "outputs": [],
   "source": [
    "user = User(\"Name\")\n",
    "user.get_name()\n",
    "user.save()\n",
    "user_2 = user.get_user(\"Name\")"
   ]
  },
  {
   "cell_type": "markdown",
   "metadata": {},
   "source": [
    "'<img src=\"img/solid2_2.jpg\" width=\"600\">'"
   ]
  },
  {
   "cell_type": "markdown",
   "metadata": {},
   "source": [
    "### 2. Open-Closed Principle (Принцип открытости/закрытости)\n",
    "\n",
    "Программные сущности (классы, модули, функции) должно быть открыты для расширения, но не модификации.\n",
    "\n",
    "Давайте представим, что у вас есть магазин, и вы даете скидку в 10% для ваших любимых покупателей используя класс ```Person```. \n",
    "\n",
    "Если бы вы решаете удвоить 10-ти процентную скидку для VIP клиентов, вы могли бы изменить класс следующим образом:"
   ]
  },
  {
   "cell_type": "code",
   "execution_count": null,
   "metadata": {},
   "outputs": [],
   "source": [
    "# Плохо: добавление нового типа требует изменения класса.\n",
    "class Person:\n",
    "    def __init__(self, customer_type):\n",
    "        self.customer_type = customer_type\n",
    "\n",
    "    def give_discount(self):\n",
    "        if self.customer_type == \"regular\":\n",
    "            return 10\n",
    "        elif self.customer_type == \"premium\":\n",
    "            return 20"
   ]
  },
  {
   "cell_type": "code",
   "execution_count": null,
   "metadata": {},
   "outputs": [],
   "source": [
    "reg_person = Person(\"regular\")\n",
    "vip_person = Person(\"premium\")\n",
    "\n",
    "print(reg_person.give_discount())\n",
    "print(vip_person.give_discount())"
   ]
  },
  {
   "cell_type": "markdown",
   "metadata": {},
   "source": [
    "Но нет, это нарушает **OCP**. \n",
    "\n",
    "> **OCP** запрещает это. Например, если мы хотим дать новую скидку для другого типа покупателей, то это требует добавления новой логики. Чтобы следовать **OCP**, мы добавим новый класс, который будет расширять ```Discount```. И в этом новом классе реализуем требуемую логику:"
   ]
  },
  {
   "cell_type": "code",
   "execution_count": null,
   "metadata": {},
   "outputs": [],
   "source": [
    "# Хорошо: использование наследования для расширения.\n",
    "from abc import ABC, abstractmethod\n",
    "\n",
    "class Discount(ABC):\n",
    "    @abstractmethod\n",
    "    def give_discount(self):\n",
    "        pass\n",
    "\n",
    "class RegularDiscount(Discount):\n",
    "    def give_discount(self):\n",
    "        return 10\n",
    "\n",
    "class PremiumDiscount(Discount):\n",
    "    def give_discount(self):\n",
    "        return 20"
   ]
  },
  {
   "cell_type": "markdown",
   "metadata": {},
   "source": [
    "Если вы решите дать скидку супер VIP пользователям, то это будет выглядеть так:"
   ]
  },
  {
   "cell_type": "code",
   "execution_count": null,
   "metadata": {},
   "outputs": [],
   "source": [
    "class SuperVIPDiscount(PremiumDiscount):\n",
    "    def give_discount(self):\n",
    "        return super().give_discount() * 2"
   ]
  },
  {
   "cell_type": "markdown",
   "metadata": {},
   "source": [
    "> **Расширяйте, но не модифицируйте!!!**"
   ]
  },
  {
   "cell_type": "code",
   "execution_count": null,
   "metadata": {},
   "outputs": [],
   "source": [
    "class DiscountFactory:\n",
    "\n",
    "    def __init__(self, person):\n",
    "        self.person = person\n",
    "\n",
    "    def give_discount_obj(self):\n",
    "        customer_type = self.person.customer_type\n",
    "        if customer_type == \"regular\":\n",
    "            return RegularDiscount()\n",
    "        elif customer_type == \"premium\":\n",
    "            return PremiumDiscount()\n",
    "        else:\n",
    "            raise ValueError(\"Неизвестный тип клиента\")"
   ]
  },
  {
   "cell_type": "code",
   "execution_count": null,
   "metadata": {},
   "outputs": [],
   "source": [
    "class Person:\n",
    "    def __init__(self, customer_type):\n",
    "        self.customer_type = customer_type\n",
    "\n",
    "    def give_discount(self, discount_cls=None):\n",
    "        if discount_cls is None:\n",
    "            discount_factory = DiscountFactory(self)\n",
    "            discount_obj = discount_factory.give_discount_obj()\n",
    "        else:\n",
    "            discount_obj = discount_cls()\n",
    "        return discount_obj.give_discount()"
   ]
  },
  {
   "cell_type": "code",
   "execution_count": null,
   "metadata": {},
   "outputs": [],
   "source": [
    "reg_person = Person(\"regular\")\n",
    "vip_person = Person(\"premium\")\n",
    "\n",
    "print(reg_person.give_discount())\n",
    "print(vip_person.give_discount())\n",
    "\n",
    "print(reg_person.give_discount(SuperVIPDiscount))"
   ]
  },
  {
   "cell_type": "markdown",
   "metadata": {},
   "source": [
    "### 3. Liskov Substitution Principle (Принцип подстановки Лисков)\n",
    "\n",
    "Главная идея, стоящая за ```Liskov Substitution Principle``` в том, что для любого класса клиент должен иметь возможность использовать любой подкласс базового класса, не замечая разницы между ними, и следовательно, без каких-либо изменений поведения программы при выполнении. \n",
    "\n",
    "> Это означает, что клиент полностью изолирован и не подозревает об изменениях в иерархии классов.\n",
    "\n",
    "Более формально: Пусть ```q(x)``` является свойством, верным относительно объектов ```x``` некоторого типа ```T```. Тогда ```q(y)``` также должно быть верным для объектов y типа ```S```, где ```S``` является подтипом типа ```T```.\n",
    "\n",
    "Проще говоря, это значит, что подкласс, дочерний класс должны соответствовать их родительскому классу или супер классу."
   ]
  },
  {
   "cell_type": "markdown",
   "metadata": {},
   "source": [
    "**LSP** это основа хорошего объектно-ориентированного проектирования программного обеспечения, потому что он следует одному из базовых принципов ООП — полиморфизму. \n",
    "\n",
    "Речь о том, чтобы создавать правильные иерархии, такие, что классы, производные от базового являлись полиморфными для их родителя по отношению к методам их интерфейсов. \n",
    "\n",
    "Ещё интересно отметить, как этот принцип относится к примеру предыдущего принципа. \n",
    "\n",
    "Если мы пытаемся расширить класс новым несовместимым классом, то все сломается. Взаимодействие с клиентом будет нарушено, и как результат, такое расширение будет невозможно (или, для того чтобы сделать это возможным, нам пришлось бы нарушить другой принцип и модифицировать код клиента, который должен быть закрыт для модификации, такое крайне нежелательно и неприемлемо).\n",
    "\n",
    "Тщательное обдумывание новых классов в соответствии с **LSP** помогает нам расширять иерархию классов правильно. Также, **LSP** способствует **OCP**."
   ]
  },
  {
   "cell_type": "code",
   "execution_count": null,
   "metadata": {},
   "outputs": [],
   "source": [
    "# Плохо: подкласс нарушает поведение базового класса.\n",
    "class Bird:\n",
    "    def fly(self):\n",
    "        pass\n",
    "\n",
    "class Ostrich(Bird): # Страус\n",
    "    def fly(self):\n",
    "        raise NotImplementedError(\"Страусы не летают\")"
   ]
  },
  {
   "cell_type": "code",
   "execution_count": null,
   "metadata": {},
   "outputs": [],
   "source": [
    "# Хорошо: разделение на классы с корректным поведением.\n",
    "class Bird:\n",
    "    pass\n",
    "\n",
    "class FlyingBird(Bird):\n",
    "    def fly(self):\n",
    "        pass\n",
    "\n",
    "class Ostrich(Bird):\n",
    "    pass"
   ]
  },
  {
   "cell_type": "markdown",
   "metadata": {},
   "source": [
    "---\n",
    "---"
   ]
  },
  {
   "cell_type": "code",
   "execution_count": null,
   "metadata": {},
   "outputs": [],
   "source": [
    "# Плохо: подкласс нарушает поведение базового класса.\n",
    "\n",
    "from abc import ABC, abstractmethod\n",
    "\n",
    "class Discount(ABC):\n",
    "    @abstractmethod\n",
    "    def give_discount(self):\n",
    "        pass\n",
    "\n",
    "class RegularDiscount(Discount):\n",
    "    def give_discount(self):\n",
    "        return 10\n",
    "\n",
    "class PremiumDiscount(Discount):\n",
    "    def give_discount(self):\n",
    "        return 20\n",
    "\n",
    "class DiscountFactory(Discount):\n",
    "\n",
    "    def __init__(self, person):\n",
    "        self.person = person\n",
    "\n",
    "    def give_discount_obj(self):\n",
    "        customer_type = self.person.customer_type\n",
    "        if customer_type == \"regular\":\n",
    "            return RegularDiscount()\n",
    "        elif customer_type == \"premium\":\n",
    "            return PremiumDiscount()\n",
    "        else:\n",
    "            raise ValueError(\"Неизвестный тип клиента\")\n",
    "\n",
    "    def give_discount(self):\n",
    "        d_obj = self.give_discount_obj()\n",
    "        return d_obj.give_discount()"
   ]
  },
  {
   "cell_type": "code",
   "execution_count": null,
   "metadata": {},
   "outputs": [],
   "source": [
    "regular_discount = RegularDiscount()\n",
    "print(regular_discount.give_discount())\n",
    "\n",
    "premium_discount = PremiumDiscount()\n",
    "print(premium_discount.give_discount())\n",
    "\n",
    "discount_factory = DiscountFactory()\n",
    "print(discount_factory.give_discount())"
   ]
  },
  {
   "cell_type": "markdown",
   "metadata": {},
   "source": [
    "### 4. Interface Segregation Principle (Принцип разделения интерфейсов)\n",
    "\n",
    "> Создавайте тонкие интерфейсы, которые ориентированы на клиента. Клиенты не должны зависеть от интерфейсов, которые они не используют. Этот принцип устраняет недостатки реализации больших интерфейсов.\n",
    "\n",
    "'<img src=\"img/solid3.png\" width=\"600\">'"
   ]
  },
  {
   "cell_type": "markdown",
   "metadata": {},
   "source": [
    "Чтобы полностью проиллюстрировать это, мы возьмем классический пример, потому что он очень показательный и легок для понимания. Классический пример:"
   ]
  },
  {
   "cell_type": "code",
   "execution_count": null,
   "metadata": {},
   "outputs": [],
   "source": [
    "class IShape:\n",
    "    def draw(self):\n",
    "        raise NotImplementedError\n",
    "\n",
    "class Circle(IShape):\n",
    "    def draw(self):\n",
    "        pass\n",
    "\n",
    "class Square(IShape):\n",
    "    def draw(self):\n",
    "        pass\n",
    "\n",
    "class Rectangle(IShape):\n",
    "    def draw(self):\n",
    "        pass"
   ]
  },
  {
   "cell_type": "markdown",
   "metadata": {},
   "source": [
    "Еще один приятный трюк заключается в том, что отдельный класс может реализовать несколько интерфейсов, если необходимо. \n",
    "\n",
    "Таким образом, мы можем предоставить единую реализацию для всех общих методов между интерфейсами. \n",
    "\n",
    "Сегрегированные интерфейсы заставляют нас больше думать о нашем коде с точки зрения клиента, что приведет нас к меньшей зависимости и более легкому тестированию. \n",
    "\n",
    "Таким образом, мы не только сделали наш код лучше для клиента, но также это облегчило нам понимание, тестирование и реализацию кода для нас самих."
   ]
  },
  {
   "cell_type": "code",
   "execution_count": null,
   "metadata": {},
   "outputs": [],
   "source": [
    "# Плохо: один интерфейс с избыточными методами.\n",
    "class Machine:\n",
    "    def print(self):\n",
    "        print(\"print\")\n",
    "\n",
    "    def scan(self):\n",
    "        print(\"scan\")\n",
    "\n",
    "    def fax(self):\n",
    "        print(\"fax\")"
   ]
  },
  {
   "cell_type": "code",
   "execution_count": null,
   "metadata": {},
   "outputs": [],
   "source": [
    "# Хорошо: разделение на несколько интерфейсов.\n",
    "class Printer:\n",
    "    def print(self):\n",
    "        print(\"print\")\n",
    "\n",
    "class Scanner:\n",
    "    def scan(self):\n",
    "        print(\"scan\")\n",
    "\n",
    "class Fax:\n",
    "    def fax(self):\n",
    "        print(\"fax\")"
   ]
  },
  {
   "cell_type": "code",
   "execution_count": null,
   "metadata": {},
   "outputs": [],
   "source": [
    "class Machine(Printer, Scanner, Fax):\n",
    "    pass"
   ]
  },
  {
   "cell_type": "code",
   "execution_count": null,
   "metadata": {},
   "outputs": [],
   "source": [
    "machine = Machine()\n",
    "machine.print()\n",
    "machine.scan()\n",
    "machine.fax()"
   ]
  },
  {
   "cell_type": "markdown",
   "metadata": {},
   "source": [
    "### 5. Dependecy Inversion Principle (Принцип инверсии зависимостей)\n",
    "\n",
    "> Зависимость должна быть от абстракций, а не от конкретики. \n",
    "\n",
    "* Модули верхних уровней не должны зависеть от модулей нижних уровней. \n",
    "* Классы и верхних, и нижних уровней должны зависеть от одних и тех же абстракций. \n",
    "* Абстракции не должны зависеть от деталей. \n",
    "* Детали должны зависеть от абстракций.\n",
    "\n",
    "Наступает момент в разработке, когда наше приложение в основном состоит из модулей. Когда такое происходит, нам необходимо улучшать код используя внедрение зависимостей. Функционирование компонентов высокого уровня зависит от компонентов низкого уровня. Для создания определенного поведения вы можете использовать наследование или интерфейсы."
   ]
  },
  {
   "cell_type": "code",
   "execution_count": null,
   "metadata": {},
   "outputs": [],
   "source": [
    "# Плохо: класс напрямую зависит от конкретной реализации.\n",
    "class LightBulb:\n",
    "    def turn_on(self):\n",
    "        print(\"Лампочка включена\")\n",
    "\n",
    "    def turn_off(self):\n",
    "        print(\"Лампочка выключена\")\n",
    "\n",
    "class Switch:\n",
    "    def __init__(self):\n",
    "        self.bulb = LightBulb()\n",
    "\n",
    "    def on(self):\n",
    "        self.bulb.turn_on()\n",
    "\n",
    "    def off(self):\n",
    "        self.bulb.turn_off()"
   ]
  },
  {
   "cell_type": "code",
   "execution_count": null,
   "metadata": {},
   "outputs": [],
   "source": [
    "# Хорошо: зависимость от абстракции.\n",
    "from abc import ABC, abstractmethod\n",
    "\n",
    "class Switchable(ABC):\n",
    "    @abstractmethod\n",
    "    def turn_on(self):\n",
    "        pass\n",
    "\n",
    "    @abstractmethod\n",
    "    def turn_off(self):\n",
    "        pass\n",
    "\n",
    "class LightBulb(Switchable):\n",
    "    def turn_on(self):\n",
    "        print(\"Лампочка включена\")\n",
    "\n",
    "    def turn_off(self):\n",
    "        print(\"Лампочка выключена\")\n",
    "\n",
    "class Switch:\n",
    "    def __init__(self, device: Switchable):\n",
    "        self.device = device\n",
    "\n",
    "    def on(self):\n",
    "        self.device.turn_on()\n",
    "\n",
    "    def off(self):\n",
    "        self.device.turn_off()"
   ]
  }
 ],
 "metadata": {
  "kernelspec": {
   "display_name": "Python 3 (ipykernel)",
   "language": "python",
   "name": "python3"
  },
  "language_info": {
   "codemirror_mode": {
    "name": "ipython",
    "version": 3
   },
   "file_extension": ".py",
   "mimetype": "text/x-python",
   "name": "python",
   "nbconvert_exporter": "python",
   "pygments_lexer": "ipython3",
   "version": "3.12.0"
  },
  "toc": {
   "base_numbering": 1,
   "nav_menu": {},
   "number_sections": true,
   "sideBar": true,
   "skip_h1_title": false,
   "title_cell": "Table of Contents",
   "title_sidebar": "Contents",
   "toc_cell": true,
   "toc_position": {},
   "toc_section_display": true,
   "toc_window_display": false
  }
 },
 "nbformat": 4,
 "nbformat_minor": 4
}
